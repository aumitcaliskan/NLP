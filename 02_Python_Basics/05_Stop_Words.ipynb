{
 "cells": [
  {
   "cell_type": "markdown",
   "id": "285fd0ef",
   "metadata": {},
   "source": [
    "## Stop Words\n",
    "Words like \"a\" and \"the\" appear so frequently that they don't require tagging as thoroughly as nouns, verbs and modifiers. We call these *stop words*, and they can be filtered from the text to be processed. spaCy holds a built-in list of some 305 English stop words."
   ]
  },
  {
   "cell_type": "code",
   "execution_count": 1,
   "id": "2318e1bb",
   "metadata": {},
   "outputs": [],
   "source": [
    "import spacy"
   ]
  },
  {
   "cell_type": "code",
   "execution_count": 2,
   "id": "d637ad82",
   "metadata": {},
   "outputs": [],
   "source": [
    "nlp = spacy.load('en_core_web_sm')"
   ]
  },
  {
   "cell_type": "code",
   "execution_count": 3,
   "id": "fd867162",
   "metadata": {},
   "outputs": [
    {
     "name": "stdout",
     "output_type": "stream",
     "text": [
      "{'nine', 'hereby', 'top', 'wherein', 'seeming', 'had', 'you', 'therein', 'regarding', 'thereupon', 'neither', 'should', 'several', 'by', 'third', 'against', 'ever', 'whereupon', 'from', 'make', 'four', 'formerly', 'a', 'wherever', 'during', 'as', 'up', 'were', 'well', 'name', 'thus', 'while', 'though', 'anything', 'others', 'herein', 'cannot', '’m', '’ve', 'really', 'doing', 'amount', 'anyway', 'must', 'thereafter', 'none', '‘ll', 'quite', '‘m', 'or', 'only', 'together', 'either', 'mostly', 'sometimes', 'all', 'out', 'throughout', 'someone', 'anyone', '‘re', 'however', 'just', \"'s\", 'nevertheless', 'please', 'namely', 'used', 'ca', 'everyone', 'among', 'whom', 'over', 'former', 'before', 'are', 'noone', 'beside', 'at', '’s', 'above', 'an', 'never', 'whereafter', 'becoming', 'became', 'amongst', 'be', 'somewhere', 'twenty', 'seemed', 'around', 'first', 'can', 'along', 'will', 'do', 'whereas', 'behind', 'about', 'towards', 'for', 'both', 'under', 'whatever', 're', 'the', 'thence', 'yet', '‘s', '’d', 'more', 'am', 'unless', 'itself', 'always', 'alone', 'most', 'due', 'forty', 'its', 'part', 'have', 'toward', 'see', 'give', 'through', 'everywhere', 'last', 'him', 'twelve', 'how', 'on', 'put', 'and', 'whence', 'fifty', 'every', 'anyhow', 'some', 'show', 'within', 'own', 'even', 'because', 'meanwhile', \"'d\", 'back', 'otherwise', 'although', 'move', 'such', 'other', 'i', 'eleven', 'already', 'after', 'whenever', 'them', 'might', 'we', 'who', 'rather', 'ours', 'take', 'one', '‘ve', 'again', 'without', 'three', 'hundred', 'besides', 'themselves', 'n‘t', 'whereby', 'now', 'us', 'been', 'too', 'seem', 'also', 'whither', 'everything', 'of', 'between', 'whose', 'nobody', 'per', 'is', 'her', 'moreover', 'elsewhere', 'afterwards', 'another', 'does', \"'re\", \"'ll\", 'did', 'hereupon', 'when', 'many', 'me', 'in', 'n’t', 'himself', 'once', 'go', 'anywhere', 'this', 'has', 'may', 'what', 'to', 'nothing', 'why', 'empty', 'until', 'call', 'beforehand', 'latter', 'so', 'beyond', 'down', 'he', 'where', 'almost', 'next', 'here', 'further', 'much', '’re', 'yourself', 'no', 'often', 'since', 'less', 'onto', 'ourselves', 'yours', \"n't\", 'six', '’ll', 'side', 'into', 'could', 'mine', 'enough', 'using', 'hence', 'not', 'still', 'with', 'least', 'hereafter', 'indeed', 'ten', 'full', 'very', 'nor', 'seems', 'would', 'across', 'there', 'eight', 'below', 'nowhere', 'my', 'myself', 'off', 'those', 'various', 'front', 'whole', 'same', 'few', 'your', 'she', 'sometime', 'their', \"'ve\", 'any', 'become', 'hers', 'therefore', 'fifteen', 'that', 'except', 'somehow', 'two', 'upon', 'thru', 'becomes', 'done', 'being', 'something', 'they', 'five', 'get', 'latterly', 'than', 'it', 'via', 'say', 'else', 'if', 'was', 'perhaps', 'herself', 'these', 'bottom', 'our', 'made', 'thereby', 'serious', 'whoever', 'his', 'sixty', 'which', 'but', 'yourselves', '‘d', \"'m\", 'each', 'whether', 'keep', 'then'}\n"
     ]
    }
   ],
   "source": [
    "print(nlp.Defaults.stop_words)"
   ]
  },
  {
   "cell_type": "code",
   "execution_count": 4,
   "id": "8fde9fef",
   "metadata": {},
   "outputs": [
    {
     "data": {
      "text/plain": [
       "326"
      ]
     },
     "execution_count": 4,
     "metadata": {},
     "output_type": "execute_result"
    }
   ],
   "source": [
    "len(nlp.Defaults.stop_words)"
   ]
  },
  {
   "cell_type": "code",
   "execution_count": 7,
   "id": "bf3ea018",
   "metadata": {},
   "outputs": [
    {
     "data": {
      "text/plain": [
       "True"
      ]
     },
     "execution_count": 7,
     "metadata": {},
     "output_type": "execute_result"
    }
   ],
   "source": [
    "nlp.vocab['I'].is_stop"
   ]
  },
  {
   "cell_type": "code",
   "execution_count": 8,
   "id": "a635207d",
   "metadata": {},
   "outputs": [
    {
     "data": {
      "text/plain": [
       "True"
      ]
     },
     "execution_count": 8,
     "metadata": {},
     "output_type": "execute_result"
    }
   ],
   "source": [
    "nlp.vocab['are'].is_stop"
   ]
  },
  {
   "cell_type": "code",
   "execution_count": 9,
   "id": "cffb401f",
   "metadata": {},
   "outputs": [
    {
     "data": {
      "text/plain": [
       "False"
      ]
     },
     "execution_count": 9,
     "metadata": {},
     "output_type": "execute_result"
    }
   ],
   "source": [
    "nlp.vocab['mouse'].is_stop"
   ]
  },
  {
   "cell_type": "markdown",
   "id": "a8706106",
   "metadata": {},
   "source": [
    "## To add a stop word\n",
    "There may be times when you wish to add a stop word to the default set. Perhaps you decide that `'btw'` (common shorthand for \"by the way\") should be considered a stop word."
   ]
  },
  {
   "cell_type": "code",
   "execution_count": 10,
   "id": "52990ce8",
   "metadata": {},
   "outputs": [],
   "source": [
    "nlp.Defaults.stop_words.add('btw')"
   ]
  },
  {
   "cell_type": "code",
   "execution_count": 11,
   "id": "f24d6878",
   "metadata": {},
   "outputs": [],
   "source": [
    "nlp.vocab['btw'].is_stop = True"
   ]
  },
  {
   "cell_type": "code",
   "execution_count": 12,
   "id": "9483b1b9",
   "metadata": {},
   "outputs": [
    {
     "data": {
      "text/plain": [
       "327"
      ]
     },
     "execution_count": 12,
     "metadata": {},
     "output_type": "execute_result"
    }
   ],
   "source": [
    "len(nlp.Defaults.stop_words)"
   ]
  },
  {
   "cell_type": "code",
   "execution_count": 13,
   "id": "3672736e",
   "metadata": {},
   "outputs": [
    {
     "data": {
      "text/plain": [
       "True"
      ]
     },
     "execution_count": 13,
     "metadata": {},
     "output_type": "execute_result"
    }
   ],
   "source": [
    "nlp.vocab['btw'].is_stop"
   ]
  },
  {
   "cell_type": "markdown",
   "id": "1a8cb83d",
   "metadata": {},
   "source": [
    "## To remove a stop word\n",
    "Alternatively, you may decide that `'beyond'` should not be considered a stop word."
   ]
  },
  {
   "cell_type": "code",
   "execution_count": 14,
   "id": "b7e08f68",
   "metadata": {},
   "outputs": [],
   "source": [
    "nlp.Defaults.stop_words.remove('enough')"
   ]
  },
  {
   "cell_type": "code",
   "execution_count": 15,
   "id": "d9131564",
   "metadata": {},
   "outputs": [],
   "source": [
    "nlp.vocab['enough'].is_stop = False"
   ]
  },
  {
   "cell_type": "code",
   "execution_count": 16,
   "id": "ea9bddbd",
   "metadata": {},
   "outputs": [
    {
     "data": {
      "text/plain": [
       "False"
      ]
     },
     "execution_count": 16,
     "metadata": {},
     "output_type": "execute_result"
    }
   ],
   "source": [
    "nlp.vocab['enough'].is_stop"
   ]
  },
  {
   "cell_type": "code",
   "execution_count": null,
   "id": "79057be0",
   "metadata": {},
   "outputs": [],
   "source": []
  }
 ],
 "metadata": {
  "kernelspec": {
   "display_name": "Python 3 (ipykernel)",
   "language": "python",
   "name": "python3"
  },
  "language_info": {
   "codemirror_mode": {
    "name": "ipython",
    "version": 3
   },
   "file_extension": ".py",
   "mimetype": "text/x-python",
   "name": "python",
   "nbconvert_exporter": "python",
   "pygments_lexer": "ipython3",
   "version": "3.9.5"
  }
 },
 "nbformat": 4,
 "nbformat_minor": 5
}
